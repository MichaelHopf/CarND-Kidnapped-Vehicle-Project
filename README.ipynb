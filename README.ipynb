{
 "cells": [
  {
   "cell_type": "markdown",
   "metadata": {},
   "source": [
    "# Particle Filter"
   ]
  },
  {
   "cell_type": "markdown",
   "metadata": {},
   "source": [
    "In this project, I implemented a __Particle Filter__ in C++."
   ]
  },
  {
   "cell_type": "markdown",
   "metadata": {},
   "source": [
    "My submission includes the following files:\n",
    "- __main.cpp__: The main file that I also updated a little in order to speed up the computation.\n",
    "- __particle_filter.cpp__: In this file, you can find all necessary parts of the particle filter, including its initialization, the prediction step, the weights update, and the resampling wheel.\n",
    "- __particle_filter.h__: The corresponding header file."
   ]
  },
  {
   "cell_type": "markdown",
   "metadata": {},
   "source": [
    "![alt text](./pic.PNG \"Particle Filter\")"
   ]
  },
  {
   "cell_type": "markdown",
   "metadata": {},
   "source": [
    "## Project Specifications"
   ]
  },
  {
   "cell_type": "markdown",
   "metadata": {},
   "source": [
    "My particle filter fulfills the necessary conditions on accuracy and performance."
   ]
  },
  {
   "cell_type": "markdown",
   "metadata": {},
   "source": [
    "## Discussion"
   ]
  },
  {
   "cell_type": "markdown",
   "metadata": {},
   "source": [
    "I found that around 100 particles are enough to obtain the necessary accuracy and performance.\n",
    "\n",
    "One time consuming step in the weight update is to find the closest landmark of each (transformed) observation. I speeded this up with some preprocessing in the initialization step, computing some structure similar to a Voronoi diagram. Then, I could obatin the closest landmark with about four comparisons.\n",
    "\n",
    "This was done as follows:\n",
    "First, I constructed a grid with 1x1 cells. If we need to know the closest landmark of some observation in such a grid, it (almost) suffices to consider the closest landmarks of the four corner points:\n",
    "\n",
    "![alt text](./pic2.PNG \"Grid\")\n",
    "\n",
    "Let the red dot be the observation and the blue dots be landmarks. Then, we want to find out the length of line 1. From our preprocessing, we have the length of line 4. The length of line 2 is smaller than the sum of lines 3 and 1, where line 3 is at most sqrt(2) by the choice of the grid (l2 < l3 + l1). Also, the length of line 1 is smaller than the sum of lines 3 and 4 (l1 < l3 + l4).\n",
    "\n",
    "Together, we obtain: $l2 < 2 \\cdot l3 + l4 < 2 \\cdot \\sqrt{2} + l4.$\n",
    "\n",
    "Thus, if we change our preprocessing a little bit such that we associate with every grid point not only the closest landmark with distance d but also all landmarks within distance 2 * sqrt(2) + d, we are good to go! "
   ]
  }
 ],
 "metadata": {
  "kernelspec": {
   "display_name": "Python 3",
   "language": "python",
   "name": "python3"
  },
  "language_info": {
   "codemirror_mode": {
    "name": "ipython",
    "version": 3
   },
   "file_extension": ".py",
   "mimetype": "text/x-python",
   "name": "python",
   "nbconvert_exporter": "python",
   "pygments_lexer": "ipython3",
   "version": "3.5.2"
  },
  "widgets": {
   "state": {},
   "version": "1.1.2"
  }
 },
 "nbformat": 4,
 "nbformat_minor": 2
}
